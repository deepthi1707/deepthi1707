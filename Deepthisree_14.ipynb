{
  "nbformat": 4,
  "nbformat_minor": 0,
  "metadata": {
    "colab": {
      "provenance": [],
      "authorship_tag": "ABX9TyNkUJJTnlCIAQJyrauYEMCf",
      "include_colab_link": true
    },
    "kernelspec": {
      "name": "python3",
      "display_name": "Python 3"
    },
    "language_info": {
      "name": "python"
    }
  },
  "cells": [
    {
      "cell_type": "markdown",
      "metadata": {
        "id": "view-in-github",
        "colab_type": "text"
      },
      "source": [
        "<a href=\"https://colab.research.google.com/github/deepthi1707/deepthi1707/blob/main/Deepthisree_14.ipynb\" target=\"_parent\"><img src=\"https://colab.research.google.com/assets/colab-badge.svg\" alt=\"Open In Colab\"/></a>"
      ]
    },
    {
      "cell_type": "code",
      "source": [
        "import pandas as pd\n",
        "import numpy as np\n",
        "import matplotlib.pyplot as plt\n",
        "import seaborn as sns\n",
        "from sklearn.impute import SimpleImputer\n",
        "import os\n",
        "\n",
        "sns.set_theme(style=\"whitegrid\")\n",
        "plt.rcParams['figure.figsize'] = (12, 6)\n",
        "\n",
        "def load_air_quality_data(file_path):\n",
        "    try:\n",
        "        df = pd.read_excel(file_path)\n",
        "        print(\"✅ Data loaded successfully!\")\n",
        "        print(f\"Shape: {df.shape}\")\n",
        "        print(\"\\nFirst 5 rows:\")\n",
        "        print(df.head())\n",
        "        return df\n",
        "    except Exception as e:\n",
        "        print(f\"❌ Error loading file: {e}\")\n",
        "        return None\n",
        "\n",
        "def clean_air_quality_data(df):\n",
        "    df = df.drop(columns=[col for col in df.columns if 'Unnamed' in col], errors='ignore')\n",
        "\n",
        "    if 'Date' in df.columns and 'Time' in df.columns:\n",
        "        try:\n",
        "            df['DateTime'] = pd.to_datetime(df['Date'].astype(str) + ' ' + df['Time'].astype(str), errors='coerce')\n",
        "            df = df.drop(columns=['Date', 'Time'])\n",
        "        except Exception as e:\n",
        "            print(f\"⚠️ Date/Time parsing failed: {e}\")\n",
        "    elif 'DateTime' in df.columns:\n",
        "        df['DateTime'] = pd.to_datetime(df['DateTime'], errors='coerce')\n",
        "\n",
        "    df = df.set_index('DateTime')\n",
        "    df = df.mask(df < 0)\n",
        "\n",
        "    print(\"\\nMissing values before cleaning:\")\n",
        "    print(df.isnull().sum())\n",
        "\n",
        "    imputer = SimpleImputer(strategy='median')\n",
        "    df_imputed = pd.DataFrame(imputer.fit_transform(df), columns=df.columns, index=df.index)\n",
        "\n",
        "    print(\"\\nMissing values after cleaning:\")\n",
        "    print(df_imputed.isnull().sum())\n",
        "\n",
        "    return df_imputed\n",
        "\n",
        "def analyze_air_quality(df):\n",
        "    print(\"\\n📊 Descriptive Statistics:\")\n",
        "    print(df.describe())\n",
        "\n",
        "    print(\"\\n🔗 Correlation Matrix:\")\n",
        "    corr_matrix = df.corr()\n",
        "    print(corr_matrix)\n",
        "\n",
        "    plt.figure(figsize=(12, 8))\n",
        "    sns.heatmap(corr_matrix, annot=True, cmap='coolwarm', center=0, fmt=\".2f\")\n",
        "    plt.title('Air Quality Parameters Correlation')\n",
        "    plt.tight_layout()\n",
        "    plt.show()\n",
        "\n",
        "    for column in df.columns:\n",
        "        if df[column].nunique() > 1:\n",
        "            plt.figure(figsize=(14, 6))\n",
        "            df[column].plot(title=f'{column} Time Series', color='royalblue')\n",
        "            plt.ylabel('Concentration')\n",
        "            plt.xlabel('Date')\n",
        "            plt.tight_layout()\n",
        "            plt.show()\n",
        "\n",
        "if __name__ == \"__main__\":\n",
        "    file_path = r\"C:\\Users\\Deepu Laptop\\Desktop\\AirQualityUCI.xlsx\"\n",
        "\n",
        "    if not os.path.exists(file_path):\n",
        "        print(\"❌ The specified file path does not exist. Please check and try again.\")\n",
        "    else:\n",
        "        air_quality_df = load_air_quality_data(file_path)\n",
        "\n",
        "        if air_quality_df is None:\n",
        "            print(\"\\n❗Could not load data file. Please check the path.\")\n",
        "        else:\n",
        "            cleaned_df = clean_air_quality_data(air_quality_df)\n",
        "            analyze_air_quality(cleaned_df)\n"
      ],
      "metadata": {
        "id": "CcNbWwXTypsE"
      },
      "execution_count": null,
      "outputs": []
    }
  ]
}